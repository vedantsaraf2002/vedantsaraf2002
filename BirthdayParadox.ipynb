{
  "nbformat": 4,
  "nbformat_minor": 0,
  "metadata": {
    "colab": {
      "name": "BirthdayParadox.py",
      "provenance": [],
      "authorship_tag": "ABX9TyOQuJ23Nu1QLbj4ZIpj7XDb",
      "include_colab_link": true
    },
    "kernelspec": {
      "name": "python3",
      "display_name": "Python 3"
    },
    "language_info": {
      "name": "python"
    }
  },
  "cells": [
    {
      "cell_type": "markdown",
      "metadata": {
        "id": "view-in-github",
        "colab_type": "text"
      },
      "source": [
        "<a href=\"https://colab.research.google.com/github/vedantsaraf2002/vedantsaraf2002/blob/main/BirthdayParadox.ipynb\" target=\"_parent\"><img src=\"https://colab.research.google.com/assets/colab-badge.svg\" alt=\"Open In Colab\"/></a>"
      ]
    },
    {
      "cell_type": "code",
      "metadata": {
        "id": "lrI0imZxzcsy"
      },
      "source": [
        "import random"
      ],
      "execution_count": 1,
      "outputs": []
    },
    {
      "cell_type": "code",
      "metadata": {
        "colab": {
          "base_uri": "https://localhost:8080/"
        },
        "id": "VQg9mBqoze51",
        "outputId": "bbb7d062-6203-4f05-e677-2bc66b501449"
      },
      "source": [
        "l=[]\n",
        "for i in range(50):\n",
        "  l.append(random.randint(1,365))\n",
        "l.sort()\n",
        "print(l)\n",
        "i=0\n",
        "flag=0\n",
        "while(i<len(l)-1):\n",
        "  if (l[i]==l[i+1]):\n",
        "    print(\"Repeats\",l[i],l[i+1])\n",
        "    flag = 1\n",
        "  i=i+1\n",
        "\n",
        "if (flag==0):\n",
        "  print(\"There is no repetition.\")\n"
      ],
      "execution_count": 3,
      "outputs": [
        {
          "output_type": "stream",
          "text": [
            "[3, 3, 11, 35, 42, 49, 58, 66, 67, 69, 84, 87, 93, 94, 95, 104, 105, 122, 123, 130, 132, 134, 139, 144, 158, 163, 164, 176, 176, 179, 191, 208, 209, 233, 236, 240, 241, 245, 279, 289, 303, 304, 315, 326, 331, 336, 336, 337, 344, 344]\n",
            "Repeats 3 3\n",
            "Repeats 176 176\n",
            "Repeats 336 336\n",
            "Repeats 344 344\n"
          ],
          "name": "stdout"
        }
      ]
    }
  ]
}